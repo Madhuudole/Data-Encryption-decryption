{
 "cells": [
  {
   "cell_type": "code",
   "execution_count": 6,
   "metadata": {},
   "outputs": [],
   "source": [
    "from Crypto.Cipher import DES\n",
    "from Crypto.Util.Padding import pad\n",
    "import os\n",
    "\n",
    "def encrypt_video(input_file, output_file, key):\n",
    "    # Ensure the key is exactly 8 bytes long (64 bits)\n",
    "    if len(key) != 8:\n",
    "        raise ValueError(\"Key must be 8 bytes long\")\n",
    "    \n",
    "    # Initialize DES cipher in ECB mode\n",
    "    des = DES.new(key, DES.MODE_ECB)\n",
    "    \n",
    "    # Read the video file\n",
    "    with open(input_file, 'rb') as f:\n",
    "        video_data = f.read()\n",
    "    \n",
    "    # Pad the data to be a multiple of 8 bytes\n",
    "    padded_data = pad(video_data, DES.block_size)\n",
    "    \n",
    "    # Encrypt the data\n",
    "    encrypted_data = des.encrypt(padded_data)\n",
    "    \n",
    "    # Write the encrypted data to the output file\n",
    "    with open(r\"C:\\Users\\appan\\OneDrive\\Documents\\New folder\\p.mp4\", 'wb') as f:\n",
    "        f.write(encrypted_data)\n",
    "\n",
    "# Example usage\n",
    "key = b'8bytekey'  # Key must be 8 bytes long\n"
   ]
  },
  {
   "cell_type": "code",
   "execution_count": 7,
   "metadata": {},
   "outputs": [
    {
     "name": "stdout",
     "output_type": "stream",
     "text": [
      "Elapsed time: 0:0:0.9271245\n"
     ]
    }
   ],
   "source": [
    "import time\n",
    "def time_taken(sec_elapsed):\n",
    "    h = int(sec_elapsed / (60 * 60))\n",
    "    m = int((sec_elapsed % (60 * 60)) / 60)\n",
    "    s = sec_elapsed % 60\n",
    "    return f\"{h}:{m}:{round(s,9)}\"\n",
    "start_time = time.time()\n",
    "answer_encrypt = encrypt_video(r\"C:\\Users\\appan\\OneDrive\\Documents\\New folder\\p.mp4\", r\"C:\\Users\\appan\\OneDrive\\Documents\\New folder\\p.mp4\", key)\n",
    "end_time = time.time()\n",
    "execution_time = (end_time - start_time)\n",
    "print(f\"Elapsed time: {time_taken(execution_time)}\")"
   ]
  },
  {
   "cell_type": "code",
   "execution_count": 8,
   "metadata": {},
   "outputs": [],
   "source": [
    "\n",
    "from Crypto.Cipher import DES\n",
    "from Crypto.Util.Padding import unpad\n",
    "\n",
    "def decrypt_video(input_file, output_file, key):\n",
    "    # Ensure the key is exactly 8 bytes long (64 bits)\n",
    "    if len(key) != 8:\n",
    "        raise ValueError(\"Key must be 8 bytes long\")\n",
    "    \n",
    "    # Initialize DES cipher in ECB mode\n",
    "    des = DES.new(key, DES.MODE_ECB)\n",
    "    \n",
    "    # Read the encrypted file\n",
    "    with open(input_file, 'rb') as f:\n",
    "        encrypted_data = f.read()\n",
    "    \n",
    "    # Decrypt the data\n",
    "    decrypted_data = des.decrypt(encrypted_data)\n",
    "    \n",
    "    # Unpad the data\n",
    "    try:\n",
    "        unpadded_data = unpad(decrypted_data, DES.block_size)\n",
    "    except ValueError as e:\n",
    "        raise ValueError(\"Incorrect decryption. Possibly wrong key or corrupted data.\")\n",
    "    \n",
    "    # Write the decrypted data to the output file\n",
    "    with open(r\"C:\\Users\\appan\\OneDrive\\Documents\\New folder\\p.mp4\", 'wb') as f:\n",
    "        f.write(unpadded_data)\n",
    "\n",
    "# Example usage\n",
    "key = b'8bytekey'  # Key must be 8 bytes long\n"
   ]
  },
  {
   "cell_type": "code",
   "execution_count": 9,
   "metadata": {},
   "outputs": [
    {
     "name": "stdout",
     "output_type": "stream",
     "text": [
      "Elapsed time: 0:0:1.023277044\n"
     ]
    }
   ],
   "source": [
    "import time\n",
    "def time_taken(sec_elapsed):\n",
    "    h = int(sec_elapsed / (60 * 60))\n",
    "    m = int((sec_elapsed % (60 * 60)) / 60)\n",
    "    s = sec_elapsed % 60\n",
    "    return f\"{h}:{m}:{round(s,9)}\"\n",
    "start_time = time.time()\n",
    "answer_encrypt = decrypt_video(r\"C:\\Users\\appan\\OneDrive\\Documents\\New folder\\p.mp4\", r\"C:\\Users\\appan\\OneDrive\\Documents\\New folder\\p.mp4\", key)\n",
    "end_time = time.time()\n",
    "execution_time = (end_time - start_time)\n",
    "print(f\"Elapsed time: {time_taken(execution_time)}\")"
   ]
  },
  {
   "cell_type": "code",
   "execution_count": null,
   "metadata": {},
   "outputs": [],
   "source": []
  }
 ],
 "metadata": {
  "kernelspec": {
   "display_name": "Python 3",
   "language": "python",
   "name": "python3"
  },
  "language_info": {
   "codemirror_mode": {
    "name": "ipython",
    "version": 3
   },
   "file_extension": ".py",
   "mimetype": "text/x-python",
   "name": "python",
   "nbconvert_exporter": "python",
   "pygments_lexer": "ipython3",
   "version": "3.12.2"
  }
 },
 "nbformat": 4,
 "nbformat_minor": 2
}
