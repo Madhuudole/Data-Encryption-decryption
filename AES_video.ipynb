{
 "cells": [
  {
   "cell_type": "code",
   "execution_count": 4,
   "metadata": {},
   "outputs": [],
   "source": [
    "from Crypto.Cipher import AES\n",
    "from Crypto.Random import get_random_bytes\n",
    "\n",
    "def encrypt_video(input_file, output_file, key):\n",
    "    cipher = AES.new(key, AES.MODE_CBC)\n",
    "    with open(input_file, 'rb') as f:\n",
    "        data = f.read()\n",
    "        # Padding\n",
    "        length = 16 - (len(data) % 16)\n",
    "        data += bytes([length]) * length\n",
    "        encrypted_data = cipher.encrypt(data)\n",
    "    with open(output_file, 'wb') as f:\n",
    "        f.write(cipher.iv)  # Write the initialization vector\n",
    "        f.write(encrypted_data)\n",
    "\n",
    "def decrypt_video(input_file, output_file, key):\n",
    "    with open(input_file, 'rb') as f:\n",
    "        iv = f.read(16)  # Read the initialization vector\n",
    "        cipher = AES.new(key, AES.MODE_CBC, iv)\n",
    "        encrypted_data = f.read()\n",
    "        decrypted_data = cipher.decrypt(encrypted_data)\n",
    "        # Remove padding\n",
    "        padding_length = decrypted_data[-1]\n",
    "        decrypted_data = decrypted_data[:-padding_length]\n",
    "    with open(output_file, 'wb') as f:\n",
    "        f.write(decrypted_data)\n",
    "\n",
    "# Example usage\n",
    "key = get_random_bytes(16)  # 128-bit key\n",
    "input_file = r\"C:\\Users\\appan\\OneDrive\\Documents\\New folder\\p.mp4\"\n",
    "encrypted_file =  r\"C:\\Users\\appan\\OneDrive\\Documents\\New folder\\p.mp4\"\n",
    "decrypted_file =  r\"C:\\Users\\appan\\OneDrive\\Documents\\New folder\\p.mp4\""
   ]
  },
  {
   "cell_type": "code",
   "execution_count": 5,
   "metadata": {},
   "outputs": [
    {
     "name": "stdout",
     "output_type": "stream",
     "text": [
      "Elapsed time: 0:0:0.219320297\n"
     ]
    }
   ],
   "source": [
    "import time\n",
    "def time_taken(sec_elapsed):\n",
    "    h = int(sec_elapsed / (60 * 60))\n",
    "    m = int((sec_elapsed % (60 * 60)) / 60)\n",
    "    s = sec_elapsed % 60\n",
    "    return f\"{h}:{m}:{round(s,9)}\"\n",
    "start_time = time.time()\n",
    "answer_encrypt = encrypt_video(input_file, encrypted_file, key)\n",
    "end_time = time.time()\n",
    "execution_time = (end_time - start_time)\n",
    "print(f\"Elapsed time: {time_taken(execution_time)}\")"
   ]
  },
  {
   "cell_type": "code",
   "execution_count": 6,
   "metadata": {},
   "outputs": [
    {
     "name": "stdout",
     "output_type": "stream",
     "text": [
      "Elapsed time: 0:0:0.304232597\n"
     ]
    }
   ],
   "source": [
    "import time\n",
    "def time_taken(sec_elapsed):\n",
    "    h = int(sec_elapsed / (60 * 60))\n",
    "    m = int((sec_elapsed % (60 * 60)) / 60)\n",
    "    s = sec_elapsed % 60\n",
    "    return f\"{h}:{m}:{round(s,9)}\"\n",
    "start_time = time.time()\n",
    "answer_encrypt = decrypt_video(encrypted_file, decrypted_file, key)\n",
    "end_time = time.time()\n",
    "execution_time = (end_time - start_time)\n",
    "print(f\"Elapsed time: {time_taken(execution_time)}\")"
   ]
  },
  {
   "cell_type": "code",
   "execution_count": null,
   "metadata": {},
   "outputs": [],
   "source": []
  }
 ],
 "metadata": {
  "kernelspec": {
   "display_name": "Python 3",
   "language": "python",
   "name": "python3"
  },
  "language_info": {
   "codemirror_mode": {
    "name": "ipython",
    "version": 3
   },
   "file_extension": ".py",
   "mimetype": "text/x-python",
   "name": "python",
   "nbconvert_exporter": "python",
   "pygments_lexer": "ipython3",
   "version": "3.12.2"
  }
 },
 "nbformat": 4,
 "nbformat_minor": 2
}
