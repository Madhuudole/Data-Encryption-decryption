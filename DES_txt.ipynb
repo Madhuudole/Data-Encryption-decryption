{
 "cells": [
  {
   "cell_type": "code",
   "execution_count": 2,
   "metadata": {},
   "outputs": [
    {
     "name": "stdout",
     "output_type": "stream",
     "text": [
      "Encrypted text (in hex): b'8d90e4a5fc435887e3dccf56d5b21f7dec9c34a32dac70509ebd3bbe1f7b3c7b'\n"
     ]
    }
   ],
   "source": [
    "from Crypto.Cipher import DES\n",
    "from Crypto.Random import get_random_bytes\n",
    "import binascii\n",
    "\n",
    "# Function to pad the text to be a multiple of 8 bytes\n",
    "def pad(text):\n",
    "    while len(text) % 8 != 0:\n",
    "        text += ' '\n",
    "    return text\n",
    "\n",
    "# Function to remove padding\n",
    "def unpad(text):\n",
    "    return text.rstrip()\n",
    "\n",
    "# Key must be 8 bytes long\n",
    "key = b'8bytekey'\n",
    "\n",
    "# Plaintext to be encrypted\n",
    "plaintext = \"Hello, this is a test message.\"\n",
    "\n",
    "# Pad the plaintext to be a multiple of 8 bytes\n",
    "padded_text = pad(plaintext)\n",
    "\n",
    "# Create DES cipher object\n",
    "cipher = DES.new(key, DES.MODE_ECB)\n",
    "\n",
    "# Encrypt the padded plaintext\n",
    "encrypted_text = cipher.encrypt(padded_text.encode('utf-8'))\n",
    "print(\"Encrypted text (in hex):\", binascii.hexlify(encrypted_text))"
   ]
  },
  {
   "cell_type": "code",
   "execution_count": 3,
   "metadata": {},
   "outputs": [
    {
     "name": "stdout",
     "output_type": "stream",
     "text": [
      "Decrypted text: Hello, this is a test message.\n"
     ]
    }
   ],
   "source": [
    "decrypted_text = cipher.decrypt(encrypted_text)\n",
    "print(\"Decrypted text:\", unpad(decrypted_text.decode('utf-8')))"
   ]
  },
  {
   "cell_type": "code",
   "execution_count": null,
   "metadata": {},
   "outputs": [],
   "source": []
  }
 ],
 "metadata": {
  "kernelspec": {
   "display_name": "Python 3",
   "language": "python",
   "name": "python3"
  },
  "language_info": {
   "codemirror_mode": {
    "name": "ipython",
    "version": 3
   },
   "file_extension": ".py",
   "mimetype": "text/x-python",
   "name": "python",
   "nbconvert_exporter": "python",
   "pygments_lexer": "ipython3",
   "version": "3.12.2"
  }
 },
 "nbformat": 4,
 "nbformat_minor": 2
}
