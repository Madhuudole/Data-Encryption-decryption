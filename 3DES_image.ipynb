{
 "cells": [
  {
   "cell_type": "code",
   "execution_count": 5,
   "metadata": {},
   "outputs": [],
   "source": [
    "import io\n",
    "from pyDes import * \n",
    "import time\n",
    "secret = input(\"Enter the Secret Code: \")\n",
    "imagefile= input(\"Enter the name of the image file which contains the image to be Encrypted: \")\n",
    "def time_taken(sec_elapsed):\n",
    "    h = int(sec_elapsed / (60 * 60))\n",
    "    m = int((sec_elapsed % (60 * 60)) / 60)\n",
    "    s = sec_elapsed % 60\n",
    "    return f\"{h}:{m}:{round(s,9)}\"\n",
    "#Encryption\n",
    "\n",
    "def encryption():\n",
    "  lst=[]\n",
    "  with open(imagefile,'rb') as img: \n",
    "    imgdata = img.read()\n",
    "    for img1 in imgdata:\n",
    "      lst.append(img1)\n",
    "  img.close()\n",
    "  \n",
    "  data = imgdata\n",
    "  k=triple_des(\"THISISASECRETKEY\",CBC,\"\\0\\0\\0\\0\\0\\0\\0\\0\",pad=None,padmode= PAD_PKCS5) \n",
    "  imgdata=k.encrypt(data) \n",
    "  with open(imagefile,'wb') as img:\n",
    "    img.write(imgdata) \n",
    "  print(\"Encryption complete!!!!\") \n",
    "\n",
    "#Decryption\n",
    "\n",
    "  lst=[]\n",
    "  with open(imagefile,'rb') as img:\n",
    "    imgdata=img.read()\n",
    "    for img1 in imgdata:\n",
    "      lst.append(img1)\n",
    "  img.close()\n",
    "\n",
    "  data = imgdata\n",
    "  k =triple_des(\"THISISASECRETKE1\", CBC,\"\\0\\0\\0\\0\\0\\0\\0\\0\", pad=None, padmode=PAD_PKCS5)\n",
    "  imgdata=k.decrypt(data)\n",
    "  with open(imagefile,'wb') as img:\n",
    "    img.write(imgdata)\n",
    "  print(\"Decryption complete!!!\") \n",
    "\n",
    "#Encryption\n",
    "\n",
    "  lst=[]\n",
    "  with open(imagefile,'rb') as img: \n",
    "    imgdata = img.read()\n",
    "    for img1 in imgdata:\n",
    "      lst.append(img1)\n",
    "  img.close()\n",
    "\n",
    "  data = imgdata\n",
    "  k=triple_des(\"THISISASECRETKE2\",CBC,\"\\0\\0\\0\\0\\0\\0\\0\\0\",pad=None,padmode= PAD_PKCS5) \n",
    "  imgdata=k.encrypt(data) \n",
    "  with open(imagefile,'wb') as img:\n",
    "    img.write(imgdata) \n",
    "  print(\"Encryption complete!!!!\") \n",
    "  print(\"Encryption ---- Decrytion ----- Encryption complete for Encryption part\")"
   ]
  },
  {
   "cell_type": "code",
   "execution_count": 6,
   "metadata": {},
   "outputs": [
    {
     "name": "stdout",
     "output_type": "stream",
     "text": [
      "Encryption complete!!!!\n",
      "Decryption complete!!!\n",
      "Encryption complete!!!!\n",
      "Encryption ---- Decrytion ----- Encryption complete for Encryption part\n",
      "Elapsed time: 0:2:24.120653391\n"
     ]
    }
   ],
   "source": [
    "start_time = time.time()\n",
    "answer_encrypt = encryption()\n",
    "end_time = time.time()\n",
    "execution_time = (end_time - start_time)\n",
    "print(f\"Elapsed time: {time_taken(execution_time)}\")"
   ]
  },
  {
   "cell_type": "code",
   "execution_count": 7,
   "metadata": {},
   "outputs": [],
   "source": [
    "#Decryption\n",
    "def decryption():\n",
    "  lst=[]\n",
    "  with open(imagefile,'rb') as img:\n",
    "    imgdata=img.read()\n",
    "    for img1 in imgdata:\n",
    "      lst.append(img1)\n",
    "  img.close()\n",
    "\n",
    "  data = imgdata\n",
    "  k =triple_des(\"THISISASECRETKE2\", CBC,\"\\0\\0\\0\\0\\0\\0\\0\\0\", pad=None, padmode=PAD_PKCS5)\n",
    "  imgdata=k.decrypt(data)\n",
    "  with open(imagefile,'wb') as img:\n",
    "    img.write(imgdata)\n",
    "  print(\"Decryption complete!!!\") \n",
    "\n",
    "#Encryption\n",
    "\n",
    "  lst=[]\n",
    "  with open(imagefile,'rb') as img: \n",
    "    imgdata = img.read()\n",
    "    for img1 in imgdata:\n",
    "      lst.append(img1)\n",
    "  img.close()\n",
    "\n",
    "  data = imgdata\n",
    "  k=triple_des(\"THISISASECRETKE1\",CBC,\"\\0\\0\\0\\0\\0\\0\\0\\0\",pad=None,padmode= PAD_PKCS5) \n",
    "  imgdata=k.encrypt(data) \n",
    "  with open(imagefile,'wb') as img:\n",
    "    img.write(imgdata) \n",
    "  print(\"Encryption complete!!!!\") \n",
    "\n",
    "#Decryption\n",
    "\n",
    "  lst=[]\n",
    "  with open(imagefile,'rb') as img:\n",
    "    imgdata=img.read()\n",
    "    for img1 in imgdata:\n",
    "      lst.append(img1)\n",
    "  img.close()\n",
    "\n",
    "  data = imgdata\n",
    "  k =triple_des(\"THISISASECRETKEY\", CBC,\"\\0\\0\\0\\0\\0\\0\\0\\0\", pad=None, padmode=PAD_PKCS5)\n",
    "  imgdata=k.decrypt(data)\n",
    "  with open(imagefile,'wb') as img:\n",
    "    img.write(imgdata)\n",
    "  print(\"Decryption complete!!!\") \n",
    "  print(\"Decryption ------ Encryption ------- Decryption complete for Decryption part\")"
   ]
  },
  {
   "cell_type": "code",
   "execution_count": 8,
   "metadata": {},
   "outputs": [
    {
     "name": "stdout",
     "output_type": "stream",
     "text": [
      "Decryption complete!!!\n",
      "Encryption complete!!!!\n",
      "Decryption complete!!!\n",
      "Decryption ------ Encryption ------- Decryption complete for Decryption part\n",
      "Elapsed time: 0:2:27.465063334\n"
     ]
    }
   ],
   "source": [
    "decrypt_secret = input(\"Enter the Secret code :\")\n",
    "if secret == decrypt_secret:\n",
    "  start_time = time.time()\n",
    "  final_answer = decryption()\n",
    "  end_time = time.time()\n",
    "  execution_time = (end_time - start_time)\n",
    "  print(f\"Elapsed time: {time_taken(execution_time)}\")\n",
    "else:\n",
    "  print(\"SECRET CODE INCORRECT --- IMAGE CANNOT BE DECRYPTED\")"
   ]
  },
  {
   "cell_type": "code",
   "execution_count": null,
   "metadata": {},
   "outputs": [],
   "source": []
  }
 ],
 "metadata": {
  "kernelspec": {
   "display_name": "Python 3",
   "language": "python",
   "name": "python3"
  },
  "language_info": {
   "codemirror_mode": {
    "name": "ipython",
    "version": 3
   },
   "file_extension": ".py",
   "mimetype": "text/x-python",
   "name": "python",
   "nbconvert_exporter": "python",
   "pygments_lexer": "ipython3",
   "version": "3.12.2"
  }
 },
 "nbformat": 4,
 "nbformat_minor": 2
}
