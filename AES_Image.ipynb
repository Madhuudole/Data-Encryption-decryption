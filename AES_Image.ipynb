{
 "cells": [
  {
   "cell_type": "code",
   "execution_count": 15,
   "metadata": {},
   "outputs": [],
   "source": [
    "from Crypto.Cipher import AES\n",
    "from Crypto.Util.Padding import pad, unpad\n",
    "from Crypto.Random import get_random_bytes\n",
    "from Crypto.Hash import SHA256\n",
    "import os\n",
    "\n",
    "def encrypt_image(input_image_path, output_image_path, key):\n",
    "    with open(input_image_path, 'rb') as f:\n",
    "        plaintext = f.read()\n",
    "    \n",
    "    cipher = AES.new(key, AES.MODE_CBC)\n",
    "    ciphertext = cipher.encrypt(pad(plaintext, AES.block_size))\n",
    "    \n",
    "    with open(output_image_path, 'wb') as f:\n",
    "        f.write(cipher.iv)\n",
    "        f.write(ciphertext)\n",
    "\n",
    "def decrypt_image(input_image_path, output_image_path, key):\n",
    "    with open(input_image_path, 'rb') as f:\n",
    "        iv = f.read(16)\n",
    "        ciphertext = f.read()\n",
    "    \n",
    "    cipher = AES.new(key, AES.MODE_CBC, iv=iv)\n",
    "    plaintext = unpad(cipher.decrypt(ciphertext), AES.block_size)\n",
    "    \n",
    "    with open(output_image_path, 'wb') as f:\n",
    "        f.write(plaintext)\n",
    "\n",
    "def generate_key(password):\n",
    "    hasher = SHA256.new(password.encode())\n",
    "    return hasher.digest()\n",
    "\n",
    "# Example usage:\n",
    "password = \"your_password\"\n",
    "key = generate_key(password)\n",
    "\n",
    "input_image_path = r\"C:\\Users\\appan\\OneDrive\\Documents\\New folder\\s2.jpg\"\n",
    "encrypted_image_path =r\"C:\\Users\\appan\\OneDrive\\Documents\\New folder\\s2.jpg\"\n",
    "decrypted_image_path = r\"C:\\Users\\appan\\OneDrive\\Documents\\New folder\\s2.jpg\"\n"
   ]
  },
  {
   "cell_type": "code",
   "execution_count": 16,
   "metadata": {},
   "outputs": [
    {
     "name": "stdout",
     "output_type": "stream",
     "text": [
      "Elapsed time: 0:0:0.003733158\n"
     ]
    }
   ],
   "source": [
    "import time\n",
    "def time_taken(sec_elapsed):\n",
    "    h = int(sec_elapsed / (60 * 60))\n",
    "    m = int((sec_elapsed % (60 * 60)) / 60)\n",
    "    s = sec_elapsed % 60\n",
    "    return f\"{h}:{m}:{round(s,9)}\"\n",
    "start_time = time.time()\n",
    "answer_encrypt = encrypt_image(input_image_path, encrypted_image_path, key)\n",
    "end_time = time.time()\n",
    "execution_time = (end_time - start_time)\n",
    "print(f\"Elapsed time: {time_taken(execution_time)}\")"
   ]
  },
  {
   "cell_type": "code",
   "execution_count": 17,
   "metadata": {},
   "outputs": [
    {
     "name": "stdout",
     "output_type": "stream",
     "text": [
      "Elapsed time: 0:0:0.016764641\n"
     ]
    }
   ],
   "source": [
    "def time_taken(sec_elapsed):\n",
    "    h = int(sec_elapsed / (60 * 60))\n",
    "    m = int((sec_elapsed % (60 * 60)) / 60)\n",
    "    s = sec_elapsed % 60\n",
    "    return f\"{h}:{m}:{round(s,9)}\"\n",
    "start_time = time.time()\n",
    "answer_encrypt = decrypt_image(encrypted_image_path, decrypted_image_path, key)\n",
    "end_time = time.time()\n",
    "execution_time = (end_time - start_time)\n",
    "print(f\"Elapsed time: {time_taken(execution_time)}\")"
   ]
  },
  {
   "cell_type": "code",
   "execution_count": null,
   "metadata": {},
   "outputs": [],
   "source": []
  }
 ],
 "metadata": {
  "kernelspec": {
   "display_name": "Python 3",
   "language": "python",
   "name": "python3"
  },
  "language_info": {
   "codemirror_mode": {
    "name": "ipython",
    "version": 3
   },
   "file_extension": ".py",
   "mimetype": "text/x-python",
   "name": "python",
   "nbconvert_exporter": "python",
   "pygments_lexer": "ipython3",
   "version": "3.12.2"
  }
 },
 "nbformat": 4,
 "nbformat_minor": 2
}
