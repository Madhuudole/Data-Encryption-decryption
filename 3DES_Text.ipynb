{
 "cells": [
  {
   "cell_type": "code",
   "execution_count": 15,
   "id": "d0d33d5f-81b4-4ab6-8a2f-e0847163d952",
   "metadata": {},
   "outputs": [
    {
     "name": "stdout",
     "output_type": "stream",
     "text": [
      "Decrypted message: b'z\\xa8\\x89k\\x1bf\\xea`6h\\xaa\\xa9\\x9e*\\x91\\xe8\\x84\"*\\x101\\xd0\\x01\\x84 \\xf9\\xe5\\xd5kf\\xb7%'\n"
     ]
    }
   ],
   "source": [
    "from Crypto.Cipher import DES3\n",
    "from Crypto.Random import get_random_bytes\n",
    "from Crypto.Util.Padding import pad, unpad\n",
    "\n",
    "def generate_key():\n",
    "    return get_random_bytes(24)\n",
    "\n",
    "def encrypt_message(message, key):\n",
    "    cipher = DES3.new(key, DES3.MODE_ECB)\n",
    "    padded_message = pad(message.encode(), DES3.block_size)\n",
    "    encrypted_message = cipher.encrypt(padded_message)\n",
    "    return encrypted_message\n",
    "\n",
    "def decrypt_message(encrypted_message, key):\n",
    "    cipher = DES3.new(key, DES3.MODE_ECB)\n",
    "    decrypted_message = cipher.decrypt(encrypted_message)\n",
    "    unpadded_message = unpad(decrypted_message, DES3.block_size)\n",
    "    return unpadded_message.decode()\n",
    "\n",
    "# Example usage\n",
    "key = generate_key()\n",
    "message = \"This is a secret message.\"\n",
    "encrypted = encrypt_message(message, key)\n",
    "print(\"Decrypted message:\", encrypted)\n",
    "\n",
    "\n",
    "\n"
   ]
  },
  {
   "cell_type": "code",
   "execution_count": 16,
   "id": "2ff210de-d5f1-4e18-b7d0-82011b8130aa",
   "metadata": {},
   "outputs": [
    {
     "name": "stdout",
     "output_type": "stream",
     "text": [
      "Decrypted message: This is a secret message.\n"
     ]
    }
   ],
   "source": [
    "decrypted = decrypt_message(encrypted, key)\n",
    "print(\"Decrypted message:\", decrypted)"
   ]
  },
  {
   "cell_type": "code",
   "execution_count": null,
   "id": "ba19eb5e",
   "metadata": {},
   "outputs": [],
   "source": []
  }
 ],
 "metadata": {
  "kernelspec": {
   "display_name": "Python 3 (ipykernel)",
   "language": "python",
   "name": "python3"
  },
  "language_info": {
   "codemirror_mode": {
    "name": "ipython",
    "version": 3
   },
   "file_extension": ".py",
   "mimetype": "text/x-python",
   "name": "python",
   "nbconvert_exporter": "python",
   "pygments_lexer": "ipython3",
   "version": "3.12.2"
  }
 },
 "nbformat": 4,
 "nbformat_minor": 5
}
