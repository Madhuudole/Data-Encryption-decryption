{
 "cells": [
  {
   "cell_type": "code",
   "execution_count": 2,
   "id": "5281d982-edbb-491b-88b4-55fb9169eea8",
   "metadata": {},
   "outputs": [
    {
     "name": "stdout",
     "output_type": "stream",
     "text": [
      "Defaulting to user installation because normal site-packages is not writeable\n",
      "Collecting pyDes\n",
      "  Downloading pyDes-2.0.1.tar.gz (9.9 kB)\n",
      "  Preparing metadata (setup.py): started\n",
      "  Preparing metadata (setup.py): finished with status 'done'\n",
      "Building wheels for collected packages: pyDes\n",
      "  Building wheel for pyDes (setup.py): started\n",
      "  Building wheel for pyDes (setup.py): finished with status 'done'\n",
      "  Created wheel for pyDes: filename=pyDes-2.0.1-py2.py3-none-any.whl size=9569 sha256=2bd075c30ff83d520a87a432ab6d5d8d1be40262d7981dcf29bdbc90581ba655\n",
      "  Stored in directory: c:\\users\\madhu\\appdata\\local\\pip\\cache\\wheels\\51\\ef\\ee\\861ded30ba9a05dd759dd63c1105f31c68c5af42b4cd54228a\n",
      "Successfully built pyDes\n",
      "Installing collected packages: pyDes\n",
      "Successfully installed pyDes-2.0.1\n",
      "Note: you may need to restart the kernel to use updated packages.\n"
     ]
    }
   ],
   "source": [
    "pip install pyDes"
   ]
  },
  {
   "cell_type": "code",
   "execution_count": 5,
   "id": "29885051-d2b0-4614-bbbe-82b03b4ebb13",
   "metadata": {},
   "outputs": [],
   "source": [
    "from Crypto.Cipher import DES3\n",
    "from Crypto.Random import get_random_bytes\n",
    "import os\n",
    "\n",
    "# Function to pad data to be a multiple of 8 bytes\n",
    "def pad(data):\n",
    "    while len(data) % 8 != 0:\n",
    "        data += b'\\0'\n",
    "    return data\n",
    "\n",
    "# Function to unpad data\n",
    "def unpad(data):\n",
    "    return data.rstrip(b'\\0')\n",
    "\n",
    "# Encrypt the video file\n",
    "def encrypt_file(input_file, output_file, key):\n",
    "    with open(input_file, 'rb') as f:\n",
    "        plaintext = f.read()\n",
    "\n",
    "    # Pad the plaintext to be a multiple of 8 bytes\n",
    "    padded_plaintext = pad(plaintext)\n",
    "\n",
    "    # Create the cipher object and encrypt the data\n",
    "    cipher = DES3.new(key, DES3.MODE_ECB)\n",
    "    ciphertext = cipher.encrypt(padded_plaintext)\n",
    "\n",
    "    with open(output_file, 'wb') as f:\n",
    "        f.write(ciphertext)\n",
    "\n",
    "# Decrypt the video file\n",
    "def decrypt_file(input_file, output_file, key):\n",
    "    with open(input_file, 'rb') as f:\n",
    "        ciphertext = f.read()\n",
    "\n",
    "    # Create the cipher object and decrypt the data\n",
    "    cipher = DES3.new(key, DES3.MODE_ECB)\n",
    "    decrypted_data = cipher.decrypt(ciphertext)\n",
    "\n",
    "    # Unpad the decrypted data\n",
    "    plaintext = unpad(decrypted_data)\n",
    "\n",
    "    with open(output_file, 'wb') as f:\n",
    "        f.write(plaintext)\n",
    "\n",
    "# Main execution\n",
    "if __name__ == \"__main__\":\n",
    "    key = get_random_bytes(24)  # Generate a 24-byte key\n",
    "    input_file = r\"C:\\Users\\appan\\OneDrive\\Documents\\New folder\\p.mp4\" \n",
    "    encrypted_file = r\"C:\\Users\\appan\\OneDrive\\Documents\\New folder\\p.mp4\"  # Path to save the encrypted video\n",
    "    decrypted_file =r\"C:\\Users\\appan\\OneDrive\\Documents\\New folder\\p.mp4\" # Path to save the decrypted video\n",
    "\n"
   ]
  },
  {
   "cell_type": "code",
   "execution_count": 6,
   "id": "0b3bec80",
   "metadata": {},
   "outputs": [
    {
     "name": "stdout",
     "output_type": "stream",
     "text": [
      "Elapsed time: 0:0:2.460227728\n"
     ]
    }
   ],
   "source": [
    "import time\n",
    "def time_taken(sec_elapsed):\n",
    "    h = int(sec_elapsed / (60 * 60))\n",
    "    m = int((sec_elapsed % (60 * 60)) / 60)\n",
    "    s = sec_elapsed % 60\n",
    "    return f\"{h}:{m}:{round(s,9)}\"\n",
    "start_time = time.time()\n",
    "answer_encrypt =encrypt_file(input_file, encrypted_file, key)\n",
    "end_time = time.time()\n",
    "execution_time = (end_time - start_time)\n",
    "print(f\"Elapsed time: {time_taken(execution_time)}\")"
   ]
  },
  {
   "cell_type": "code",
   "execution_count": 7,
   "id": "070d98e0",
   "metadata": {},
   "outputs": [
    {
     "name": "stdout",
     "output_type": "stream",
     "text": [
      "Elapsed time: 0:0:2.786527872\n"
     ]
    }
   ],
   "source": [
    "import time\n",
    "def time_taken(sec_elapsed):\n",
    "    h = int(sec_elapsed / (60 * 60))\n",
    "    m = int((sec_elapsed % (60 * 60)) / 60)\n",
    "    s = sec_elapsed % 60\n",
    "    return f\"{h}:{m}:{round(s,9)}\"\n",
    "start_time = time.time()\n",
    "answer_encrypt =decrypt_file(encrypted_file, decrypted_file, key)\n",
    "end_time = time.time()\n",
    "execution_time = (end_time - start_time)\n",
    "print(f\"Elapsed time: {time_taken(execution_time)}\")"
   ]
  },
  {
   "cell_type": "code",
   "execution_count": null,
   "id": "001539c5",
   "metadata": {},
   "outputs": [],
   "source": []
  }
 ],
 "metadata": {
  "kernelspec": {
   "display_name": "Python 3 (ipykernel)",
   "language": "python",
   "name": "python3"
  },
  "language_info": {
   "codemirror_mode": {
    "name": "ipython",
    "version": 3
   },
   "file_extension": ".py",
   "mimetype": "text/x-python",
   "name": "python",
   "nbconvert_exporter": "python",
   "pygments_lexer": "ipython3",
   "version": "3.12.2"
  }
 },
 "nbformat": 4,
 "nbformat_minor": 5
}
