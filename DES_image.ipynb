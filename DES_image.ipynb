{
 "cells": [
  {
   "cell_type": "code",
   "execution_count": 40,
   "metadata": {},
   "outputs": [],
   "source": [
    "from Crypto.Cipher import DES\n",
    "from Crypto.Util.Padding import pad, unpad\n",
    "import os\n",
    "\n",
    "# Function to read the image file\n",
    "def read_image(file_path):\n",
    "    with open(file_path, 'rb') as file:\n",
    "        return file.read()\n",
    "\n",
    "# Function to write the image file\n",
    "def write_image(file_path, data):\n",
    "    with open(file_path, 'wb') as file:\n",
    "        file.write(data)\n",
    "\n",
    "# Function to encrypt the image\n",
    "def encrypt_image(image_data, key):\n",
    "    cipher = DES.new(key, DES.MODE_ECB)\n",
    "    padded_data = pad(image_data, DES.block_size)\n",
    "    encrypted_data = cipher.encrypt(padded_data)\n",
    "    return encrypted_data\n",
    "\n",
    "# Function to decrypt the image\n",
    "def decrypt_image(encrypted_data, key):\n",
    "    cipher = DES.new(key, DES.MODE_ECB)\n",
    "    decrypted_data = cipher.decrypt(encrypted_data)\n",
    "    unpadded_data = unpad(decrypted_data, DES.block_size)\n",
    "    return unpadded_data\n",
    "\n",
    "# Main function\n",
    "\n",
    "    # Image file path\n",
    "input_image_path = r\"C:\\Users\\appan\\OneDrive\\Documents\\New folder\\s2.jpg\"\n",
    "encrypted_image_path = r\"C:\\Users\\appan\\OneDrive\\Documents\\New folder\\s2.jpg\"\n",
    "decrypted_image_path = r\"C:\\Users\\appan\\OneDrive\\Documents\\New folder\\s2.jpg\"\n",
    "    \n",
    "    # DES key (8 bytes for DES)\n",
    "key = b'8bytekey'  \n",
    "    # Read the image\n",
    "image_data = read_image(input_image_path)"
   ]
  },
  {
   "cell_type": "code",
   "execution_count": 41,
   "metadata": {},
   "outputs": [
    {
     "name": "stdout",
     "output_type": "stream",
     "text": [
      "Elapsed time: 0:0:0.007917643\n"
     ]
    }
   ],
   "source": [
    "import time\n",
    "def time_taken(sec_elapsed):\n",
    "    h = int(sec_elapsed / (60 * 60))\n",
    "    m = int((sec_elapsed % (60 * 60)) / 60)\n",
    "    s = sec_elapsed % 60\n",
    "    return f\"{h}:{m}:{round(s,9)}\"\n",
    "start_time = time.time()\n",
    "encrypted_data=encrypt_image(image_data, key)\n",
    "answer_encrypt =write_image(encrypted_image_path,encrypted_data)\n",
    "end_time = time.time()\n",
    "execution_time = (end_time - start_time)\n",
    "print(f\"Elapsed time: {time_taken(execution_time)}\")"
   ]
  },
  {
   "cell_type": "code",
   "execution_count": 39,
   "metadata": {},
   "outputs": [
    {
     "name": "stdout",
     "output_type": "stream",
     "text": [
      "Elapsed time: 0:0:0.007459402\n"
     ]
    }
   ],
   "source": [
    "import time\n",
    "def time_taken(sec_elapsed):\n",
    "    h = int(sec_elapsed / (60 * 60))\n",
    "    m = int((sec_elapsed % (60 * 60)) / 60)\n",
    "    s = sec_elapsed % 60\n",
    "    return f\"{h}:{m}:{round(s,9)}\"\n",
    "start_time = time.time()\n",
    "answer_encrypt =write_image(decrypted_image_path, decrypt_image(encrypted_data, key))\n",
    "end_time = time.time()\n",
    "execution_time = (end_time - start_time)\n",
    "print(f\"Elapsed time: {time_taken(execution_time)}\")"
   ]
  },
  {
   "cell_type": "code",
   "execution_count": null,
   "metadata": {},
   "outputs": [],
   "source": []
  }
 ],
 "metadata": {
  "kernelspec": {
   "display_name": "Python 3",
   "language": "python",
   "name": "python3"
  },
  "language_info": {
   "codemirror_mode": {
    "name": "ipython",
    "version": 3
   },
   "file_extension": ".py",
   "mimetype": "text/x-python",
   "name": "python",
   "nbconvert_exporter": "python",
   "pygments_lexer": "ipython3",
   "version": "3.12.2"
  }
 },
 "nbformat": 4,
 "nbformat_minor": 2
}
