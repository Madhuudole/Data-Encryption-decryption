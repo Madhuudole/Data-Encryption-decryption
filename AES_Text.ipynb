{
 "cells": [
  {
   "cell_type": "code",
   "execution_count": 4,
   "id": "5fd4344f-b7c0-4842-8fd8-338ee3420007",
   "metadata": {},
   "outputs": [
    {
     "name": "stdout",
     "output_type": "stream",
     "text": [
      "Cipher text: b'\\x88I\\x8b\\xde$pks\\x90\\x16\\x7fq\\x9b]\\x14\\x97 \\x9f\\xa1s>c\\xdd\\xc3\\x9b=\\xc9\\x9e\\x85s'\n"
     ]
    }
   ],
   "source": [
    "# importing AES\n",
    "from Crypto.Cipher import AES\n",
    "\n",
    "# encryption key\n",
    "key = b'C&F)H@McQfTjWnZr'\n",
    "\n",
    "# create new instance of cipher\n",
    "cipher = AES.new(key, AES.MODE_EAX)\n",
    "\n",
    "# data to be encrypted\n",
    "data = \"Welcome to copyassignment.com!\".encode()\n",
    "\n",
    "# nonce is a random value generated each time we instantiate the cipher using new()\n",
    "nonce = cipher.nonce\n",
    "\n",
    "# encrypt the data\n",
    "ciphertext = cipher.encrypt(data)\n",
    "\n",
    "# print the encrypted data\n",
    "print(\"Cipher text:\", ciphertext)"
   ]
  },
  {
   "cell_type": "code",
   "execution_count": 5,
   "id": "63474018-9510-4770-b544-04e0b71989dd",
   "metadata": {},
   "outputs": [
    {
     "name": "stdout",
     "output_type": "stream",
     "text": [
      "Plain text: b'Welcome to copyassignment.com!'\n"
     ]
    }
   ],
   "source": [
    "# generate new instance with the key and nonce same as encryption cipher\n",
    "cipher = AES.new(key, AES.MODE_EAX, nonce=nonce)\n",
    "\n",
    "# decrypt the data\n",
    "plaintext = cipher.decrypt(ciphertext)\n",
    "print(\"Plain text:\", plaintext)"
   ]
  },
  {
   "cell_type": "code",
   "execution_count": null,
   "id": "0d7a9545",
   "metadata": {},
   "outputs": [],
   "source": []
  }
 ],
 "metadata": {
  "kernelspec": {
   "display_name": "Python 3 (ipykernel)",
   "language": "python",
   "name": "python3"
  },
  "language_info": {
   "codemirror_mode": {
    "name": "ipython",
    "version": 3
   },
   "file_extension": ".py",
   "mimetype": "text/x-python",
   "name": "python",
   "nbconvert_exporter": "python",
   "pygments_lexer": "ipython3",
   "version": "3.12.2"
  }
 },
 "nbformat": 4,
 "nbformat_minor": 5
}
